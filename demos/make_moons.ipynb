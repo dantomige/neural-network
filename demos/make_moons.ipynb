{
 "cells": [
  {
   "cell_type": "markdown",
   "id": "3d3c1fdb",
   "metadata": {},
   "source": [
    "Loading dataset"
   ]
  },
  {
   "cell_type": "code",
   "execution_count": 3,
   "id": "144b543f",
   "metadata": {},
   "outputs": [],
   "source": [
    "from nn import *\n",
    "from sklearn.datasets import make_moons\n",
    "import matplotlib.pyplot as plt\n",
    "\n",
    "X, y = make_moons(n_samples=200, noise=0.2, random_state=42)"
   ]
  },
  {
   "cell_type": "markdown",
   "id": "d141c4f7",
   "metadata": {},
   "source": [
    "Data exploration: Domain Knowledge, Data Cleaning/Preprocessing, Feature Creation/Construction/Transformation (Sums, Average, Check Existence, Log/Exp), Feature Encoding/Standardization (Scaling, One-Hot-Encodind, Flattening), Feature Selection (Identify Most Relevant Features)"
   ]
  },
  {
   "cell_type": "code",
   "execution_count": null,
   "id": "35254391",
   "metadata": {},
   "outputs": [],
   "source": [
    "plt.scatter(X[:, 0], X[:, 1], c=y, cmap='bwr', edgecolors='k')\n",
    "plt.xlabel(\"X1\")\n",
    "plt.ylabel(\"X2\")\n",
    "plt.title(\"make_moons dataset\")\n",
    "plt.show()"
   ]
  },
  {
   "cell_type": "markdown",
   "id": "fd81bae6",
   "metadata": {},
   "source": [
    "Data Split"
   ]
  },
  {
   "cell_type": "markdown",
   "id": "463eecaa",
   "metadata": {},
   "source": [
    "Selecting Model"
   ]
  },
  {
   "cell_type": "code",
   "execution_count": null,
   "id": "91196775",
   "metadata": {},
   "outputs": [],
   "source": [
    "nn = NeuralNetwork([\n",
    "    FullyConnected(2, 5),\n",
    "    ReLU(),\n",
    "    FullyConnected(5, 1),\n",
    "    Sigmoid()\n",
    "])"
   ]
  },
  {
   "cell_type": "markdown",
   "id": "361d8f3a",
   "metadata": {},
   "source": [
    "Hyperparameter Turning (Use Cross Validation)"
   ]
  },
  {
   "cell_type": "code",
   "execution_count": null,
   "id": "bb54ace7",
   "metadata": {},
   "outputs": [],
   "source": []
  },
  {
   "cell_type": "markdown",
   "id": "ab10a843",
   "metadata": {},
   "source": [
    "Train Model With Best Hyperparameters (Use Cross Validation to Select the Best Model)"
   ]
  },
  {
   "cell_type": "markdown",
   "id": "dfec1fc6",
   "metadata": {},
   "source": [
    "Evaluate the Model with Test"
   ]
  },
  {
   "cell_type": "code",
   "execution_count": null,
   "id": "2b70b193",
   "metadata": {},
   "outputs": [],
   "source": []
  }
 ],
 "metadata": {
  "kernelspec": {
   "display_name": "neural-network",
   "language": "python",
   "name": "python3"
  },
  "language_info": {
   "codemirror_mode": {
    "name": "ipython",
    "version": 3
   },
   "file_extension": ".py",
   "mimetype": "text/x-python",
   "name": "python",
   "nbconvert_exporter": "python",
   "pygments_lexer": "ipython3",
   "version": "3.13.5"
  }
 },
 "nbformat": 4,
 "nbformat_minor": 5
}
